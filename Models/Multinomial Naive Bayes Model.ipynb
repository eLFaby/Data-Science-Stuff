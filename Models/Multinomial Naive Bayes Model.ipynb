{
 "cells": [
  {
   "attachments": {},
   "cell_type": "markdown",
   "metadata": {},
   "source": [
    "<h1>Multinomial Naive Bayes</h1><br>\n",
    "Sentiment Analysis<br>\n",
    "Finding a good sentiment analysis database is very hard, so it's the dataset's fault as much as the model's"
   ]
  },
  {
   "attachments": {},
   "cell_type": "markdown",
   "metadata": {},
   "source": [
    "Importing"
   ]
  },
  {
   "cell_type": "code",
   "execution_count": 157,
   "metadata": {},
   "outputs": [
    {
     "data": {
      "text/html": [
       "<div>\n",
       "<style scoped>\n",
       "    .dataframe tbody tr th:only-of-type {\n",
       "        vertical-align: middle;\n",
       "    }\n",
       "\n",
       "    .dataframe tbody tr th {\n",
       "        vertical-align: top;\n",
       "    }\n",
       "\n",
       "    .dataframe thead th {\n",
       "        text-align: right;\n",
       "    }\n",
       "</style>\n",
       "<table border=\"1\" class=\"dataframe\">\n",
       "  <thead>\n",
       "    <tr style=\"text-align: right;\">\n",
       "      <th></th>\n",
       "      <th>message</th>\n",
       "      <th>sentiment</th>\n",
       "    </tr>\n",
       "  </thead>\n",
       "  <tbody>\n",
       "    <tr>\n",
       "      <th>0</th>\n",
       "      <td>I really enjoyed the movie</td>\n",
       "      <td>positive</td>\n",
       "    </tr>\n",
       "    <tr>\n",
       "      <th>1</th>\n",
       "      <td>The food was terrible</td>\n",
       "      <td>negative</td>\n",
       "    </tr>\n",
       "    <tr>\n",
       "      <th>2</th>\n",
       "      <td>I'm not sure how I feel about this</td>\n",
       "      <td>neutral</td>\n",
       "    </tr>\n",
       "    <tr>\n",
       "      <th>3</th>\n",
       "      <td>The service was excellent</td>\n",
       "      <td>positive</td>\n",
       "    </tr>\n",
       "    <tr>\n",
       "      <th>4</th>\n",
       "      <td>I had a bad experience</td>\n",
       "      <td>negative</td>\n",
       "    </tr>\n",
       "  </tbody>\n",
       "</table>\n",
       "</div>"
      ],
      "text/plain": [
       "                              message sentiment\n",
       "0          I really enjoyed the movie  positive\n",
       "1               The food was terrible  negative\n",
       "2  I'm not sure how I feel about this   neutral\n",
       "3           The service was excellent  positive\n",
       "4              I had a bad experience  negative"
      ]
     },
     "execution_count": 157,
     "metadata": {},
     "output_type": "execute_result"
    }
   ],
   "source": [
    "import pandas as pd\n",
    "import re\n",
    "from sklearn.model_selection import train_test_split\n",
    "from sklearn.feature_extraction.text import CountVectorizer\n",
    "from sklearn.naive_bayes import MultinomialNB\n",
    "from sklearn.metrics import accuracy_score\n",
    "import numpy as np\n",
    "from sklearn.preprocessing import LabelEncoder\n",
    "from sklearn.metrics import mean_squared_error\n",
    "from sklearn.metrics import mean_absolute_error\n",
    "import spacy\n",
    "\n",
    "Chat_dataset=pd.read_csv('..//Datasets/chat_dataset.csv')\n",
    "Chat_dataset.head()"
   ]
  },
  {
   "attachments": {},
   "cell_type": "markdown",
   "metadata": {},
   "source": [
    "Finding the categorical values ( how many are there? )"
   ]
  },
  {
   "cell_type": "code",
   "execution_count": 158,
   "metadata": {},
   "outputs": [
    {
     "data": {
      "text/plain": [
       "sentiment\n",
       "neutral     259\n",
       "positive    178\n",
       "negative    147\n",
       "Name: count, dtype: int64"
      ]
     },
     "execution_count": 158,
     "metadata": {},
     "output_type": "execute_result"
    }
   ],
   "source": [
    "Chat_dataset.sentiment.value_counts()"
   ]
  },
  {
   "attachments": {},
   "cell_type": "markdown",
   "metadata": {},
   "source": [
    "The size of the dataset"
   ]
  },
  {
   "cell_type": "code",
   "execution_count": 159,
   "metadata": {},
   "outputs": [
    {
     "data": {
      "text/plain": [
       "1168"
      ]
     },
     "execution_count": 159,
     "metadata": {},
     "output_type": "execute_result"
    }
   ],
   "source": [
    "Chat_dataset.size"
   ]
  },
  {
   "attachments": {},
   "cell_type": "markdown",
   "metadata": {},
   "source": [
    "<h1>Preprocessing"
   ]
  },
  {
   "attachments": {},
   "cell_type": "markdown",
   "metadata": {},
   "source": [
    "There are many preprocessing tools such as: <br>\n",
    "<b>Lemmatization</b>: Transforms a word into it's lema dictionary word, for instance the word 'running' becomes 'run'. So a problem with this, well, context and personality, the proposition also becomes weird, imagine training a model on a proposition such as \"i am run to the store\" or even worse if you preprocess your dataset even further.. .<br>\n",
    "<b>Stemming</b>: The stemming process removes sufixes and prefixes from a word. <br>\n",
    "<b>Stop word removal</b>: removes words such as 'the', 'and', 'of', 'a', 'an'. <br>\n",
    "<b>Part of speech tagging</b>: This is an interesting one, it puts every word into a category, it's part of speech (noun,verb,adjective...). It can help.<br>\n",
    "<b>Named entity recognition</b>: Another good one, used to identify names of people, places, orgz<br>"
   ]
  },
  {
   "attachments": {},
   "cell_type": "markdown",
   "metadata": {},
   "source": [
    "Data cleaning. \n"
   ]
  },
  {
   "cell_type": "code",
   "execution_count": 160,
   "metadata": {},
   "outputs": [],
   "source": [
    "\n",
    "# function to remove links and special chars, also removing extra whitespaces.\n",
    "def clean_text(text):  \n",
    "    # remove links by substituting target words with nothing\n",
    "    text=re.sub(r'http\\S+|www\\S+|https\\S+', '',text)\n",
    "    # remove special chars\n",
    "    text=re.sub(r'[^a-zA-ZÀ-ú\\s]','',text)\n",
    "    # tokenization\n",
    "    tokens=text.split()\n",
    "    # remove extra whitespace\n",
    "    tokens=[token.strip() for token in tokens]\n",
    "    cleaned_text=' '.join(tokens)\n",
    "    return cleaned_text\n",
    "\n",
    "\n",
    "# Function to add Part Of Speech Tags (pos_tags) \n",
    "nlp=spacy.load('en_core_web_sm')\n",
    "def possifier(text_df):\n",
    "    pos_tags_list = []\n",
    "    for text in text_df:\n",
    "        doc = nlp(text)\n",
    "        pos_tags = [(token.pos_) for token in doc]\n",
    "        pos_tags_list.append(pos_tags)\n",
    "    return pos_tags_list\n",
    "\n",
    "# Function to count the number of tags\n",
    "def process_pos_tags(tags):\n",
    "    pos_counts = {}\n",
    "    for tag in tags:\n",
    "        if tag in pos_counts:\n",
    "            pos_counts[tag] += 1\n",
    "        else:\n",
    "            pos_counts[tag] = 1\n",
    "    return pos_counts\n",
    "# Using .apply(function) to apply the function to the specific colum\n",
    "\n"
   ]
  },
  {
   "cell_type": "code",
   "execution_count": 161,
   "metadata": {},
   "outputs": [
    {
     "data": {
      "text/html": [
       "<div>\n",
       "<style scoped>\n",
       "    .dataframe tbody tr th:only-of-type {\n",
       "        vertical-align: middle;\n",
       "    }\n",
       "\n",
       "    .dataframe tbody tr th {\n",
       "        vertical-align: top;\n",
       "    }\n",
       "\n",
       "    .dataframe thead th {\n",
       "        text-align: right;\n",
       "    }\n",
       "</style>\n",
       "<table border=\"1\" class=\"dataframe\">\n",
       "  <thead>\n",
       "    <tr style=\"text-align: right;\">\n",
       "      <th></th>\n",
       "      <th>message</th>\n",
       "      <th>sentiment</th>\n",
       "      <th>pos_count</th>\n",
       "      <th>pos_counts_per_row</th>\n",
       "    </tr>\n",
       "  </thead>\n",
       "  <tbody>\n",
       "    <tr>\n",
       "      <th>0</th>\n",
       "      <td>I really enjoyed the movie</td>\n",
       "      <td>positive</td>\n",
       "      <td>[PRON, ADV, VERB, DET, NOUN]</td>\n",
       "      <td>{'PRON': 1, 'ADV': 1, 'VERB': 1, 'DET': 1, 'NO...</td>\n",
       "    </tr>\n",
       "    <tr>\n",
       "      <th>1</th>\n",
       "      <td>The food was terrible</td>\n",
       "      <td>negative</td>\n",
       "      <td>[DET, NOUN, AUX, ADJ]</td>\n",
       "      <td>{'DET': 1, 'NOUN': 1, 'AUX': 1, 'ADJ': 1}</td>\n",
       "    </tr>\n",
       "    <tr>\n",
       "      <th>2</th>\n",
       "      <td>Im not sure how I feel about this</td>\n",
       "      <td>neutral</td>\n",
       "      <td>[PRON, VERB, PART, ADJ, SCONJ, PRON, VERB, ADP...</td>\n",
       "      <td>{'PRON': 3, 'VERB': 2, 'PART': 1, 'ADJ': 1, 'S...</td>\n",
       "    </tr>\n",
       "    <tr>\n",
       "      <th>3</th>\n",
       "      <td>The service was excellent</td>\n",
       "      <td>positive</td>\n",
       "      <td>[DET, NOUN, AUX, ADJ]</td>\n",
       "      <td>{'DET': 1, 'NOUN': 1, 'AUX': 1, 'ADJ': 1}</td>\n",
       "    </tr>\n",
       "    <tr>\n",
       "      <th>4</th>\n",
       "      <td>I had a bad experience</td>\n",
       "      <td>negative</td>\n",
       "      <td>[PRON, VERB, DET, ADJ, NOUN]</td>\n",
       "      <td>{'PRON': 1, 'VERB': 1, 'DET': 1, 'ADJ': 1, 'NO...</td>\n",
       "    </tr>\n",
       "  </tbody>\n",
       "</table>\n",
       "</div>"
      ],
      "text/plain": [
       "                             message sentiment   \n",
       "0         I really enjoyed the movie  positive  \\\n",
       "1              The food was terrible  negative   \n",
       "2  Im not sure how I feel about this   neutral   \n",
       "3          The service was excellent  positive   \n",
       "4             I had a bad experience  negative   \n",
       "\n",
       "                                           pos_count   \n",
       "0                       [PRON, ADV, VERB, DET, NOUN]  \\\n",
       "1                              [DET, NOUN, AUX, ADJ]   \n",
       "2  [PRON, VERB, PART, ADJ, SCONJ, PRON, VERB, ADP...   \n",
       "3                              [DET, NOUN, AUX, ADJ]   \n",
       "4                       [PRON, VERB, DET, ADJ, NOUN]   \n",
       "\n",
       "                                  pos_counts_per_row  \n",
       "0  {'PRON': 1, 'ADV': 1, 'VERB': 1, 'DET': 1, 'NO...  \n",
       "1          {'DET': 1, 'NOUN': 1, 'AUX': 1, 'ADJ': 1}  \n",
       "2  {'PRON': 3, 'VERB': 2, 'PART': 1, 'ADJ': 1, 'S...  \n",
       "3          {'DET': 1, 'NOUN': 1, 'AUX': 1, 'ADJ': 1}  \n",
       "4  {'PRON': 1, 'VERB': 1, 'DET': 1, 'ADJ': 1, 'NO...  "
      ]
     },
     "execution_count": 161,
     "metadata": {},
     "output_type": "execute_result"
    }
   ],
   "source": [
    "# Using the clean_text function to ... clean the text \n",
    "Chat_dataset['message']=[clean_text(text) for text in Chat_dataset['message']]\n",
    "\n",
    "# Adding extra columns \n",
    "pos_count=possifier(Chat_dataset['message'])\n",
    "Chat_dataset['pos_count']=pos_count\n",
    "\n",
    "Chat_dataset['pos_counts_per_row'] = Chat_dataset['pos_count'].apply(process_pos_tags)\n",
    "Chat_dataset.pos_counts_per_row.head()\n",
    "\n",
    "\n",
    "Chat_dataset.head()\n"
   ]
  },
  {
   "attachments": {},
   "cell_type": "markdown",
   "metadata": {},
   "source": [
    "The model"
   ]
  },
  {
   "cell_type": "code",
   "execution_count": 162,
   "metadata": {},
   "outputs": [
    {
     "data": {
      "text/html": [
       "<style>#sk-container-id-13 {color: black;background-color: white;}#sk-container-id-13 pre{padding: 0;}#sk-container-id-13 div.sk-toggleable {background-color: white;}#sk-container-id-13 label.sk-toggleable__label {cursor: pointer;display: block;width: 100%;margin-bottom: 0;padding: 0.3em;box-sizing: border-box;text-align: center;}#sk-container-id-13 label.sk-toggleable__label-arrow:before {content: \"▸\";float: left;margin-right: 0.25em;color: #696969;}#sk-container-id-13 label.sk-toggleable__label-arrow:hover:before {color: black;}#sk-container-id-13 div.sk-estimator:hover label.sk-toggleable__label-arrow:before {color: black;}#sk-container-id-13 div.sk-toggleable__content {max-height: 0;max-width: 0;overflow: hidden;text-align: left;background-color: #f0f8ff;}#sk-container-id-13 div.sk-toggleable__content pre {margin: 0.2em;color: black;border-radius: 0.25em;background-color: #f0f8ff;}#sk-container-id-13 input.sk-toggleable__control:checked~div.sk-toggleable__content {max-height: 200px;max-width: 100%;overflow: auto;}#sk-container-id-13 input.sk-toggleable__control:checked~label.sk-toggleable__label-arrow:before {content: \"▾\";}#sk-container-id-13 div.sk-estimator input.sk-toggleable__control:checked~label.sk-toggleable__label {background-color: #d4ebff;}#sk-container-id-13 div.sk-label input.sk-toggleable__control:checked~label.sk-toggleable__label {background-color: #d4ebff;}#sk-container-id-13 input.sk-hidden--visually {border: 0;clip: rect(1px 1px 1px 1px);clip: rect(1px, 1px, 1px, 1px);height: 1px;margin: -1px;overflow: hidden;padding: 0;position: absolute;width: 1px;}#sk-container-id-13 div.sk-estimator {font-family: monospace;background-color: #f0f8ff;border: 1px dotted black;border-radius: 0.25em;box-sizing: border-box;margin-bottom: 0.5em;}#sk-container-id-13 div.sk-estimator:hover {background-color: #d4ebff;}#sk-container-id-13 div.sk-parallel-item::after {content: \"\";width: 100%;border-bottom: 1px solid gray;flex-grow: 1;}#sk-container-id-13 div.sk-label:hover label.sk-toggleable__label {background-color: #d4ebff;}#sk-container-id-13 div.sk-serial::before {content: \"\";position: absolute;border-left: 1px solid gray;box-sizing: border-box;top: 0;bottom: 0;left: 50%;z-index: 0;}#sk-container-id-13 div.sk-serial {display: flex;flex-direction: column;align-items: center;background-color: white;padding-right: 0.2em;padding-left: 0.2em;position: relative;}#sk-container-id-13 div.sk-item {position: relative;z-index: 1;}#sk-container-id-13 div.sk-parallel {display: flex;align-items: stretch;justify-content: center;background-color: white;position: relative;}#sk-container-id-13 div.sk-item::before, #sk-container-id-13 div.sk-parallel-item::before {content: \"\";position: absolute;border-left: 1px solid gray;box-sizing: border-box;top: 0;bottom: 0;left: 50%;z-index: -1;}#sk-container-id-13 div.sk-parallel-item {display: flex;flex-direction: column;z-index: 1;position: relative;background-color: white;}#sk-container-id-13 div.sk-parallel-item:first-child::after {align-self: flex-end;width: 50%;}#sk-container-id-13 div.sk-parallel-item:last-child::after {align-self: flex-start;width: 50%;}#sk-container-id-13 div.sk-parallel-item:only-child::after {width: 0;}#sk-container-id-13 div.sk-dashed-wrapped {border: 1px dashed gray;margin: 0 0.4em 0.5em 0.4em;box-sizing: border-box;padding-bottom: 0.4em;background-color: white;}#sk-container-id-13 div.sk-label label {font-family: monospace;font-weight: bold;display: inline-block;line-height: 1.2em;}#sk-container-id-13 div.sk-label-container {text-align: center;}#sk-container-id-13 div.sk-container {/* jupyter's `normalize.less` sets `[hidden] { display: none; }` but bootstrap.min.css set `[hidden] { display: none !important; }` so we also need the `!important` here to be able to override the default hidden behavior on the sphinx rendered scikit-learn.org. See: https://github.com/scikit-learn/scikit-learn/issues/21755 */display: inline-block !important;position: relative;}#sk-container-id-13 div.sk-text-repr-fallback {display: none;}</style><div id=\"sk-container-id-13\" class=\"sk-top-container\"><div class=\"sk-text-repr-fallback\"><pre>MultinomialNB(alpha=0.5, fit_prior=False)</pre><b>In a Jupyter environment, please rerun this cell to show the HTML representation or trust the notebook. <br />On GitHub, the HTML representation is unable to render, please try loading this page with nbviewer.org.</b></div><div class=\"sk-container\" hidden><div class=\"sk-item\"><div class=\"sk-estimator sk-toggleable\"><input class=\"sk-toggleable__control sk-hidden--visually\" id=\"sk-estimator-id-13\" type=\"checkbox\" checked><label for=\"sk-estimator-id-13\" class=\"sk-toggleable__label sk-toggleable__label-arrow\">MultinomialNB</label><div class=\"sk-toggleable__content\"><pre>MultinomialNB(alpha=0.5, fit_prior=False)</pre></div></div></div></div></div>"
      ],
      "text/plain": [
       "MultinomialNB(alpha=0.5, fit_prior=False)"
      ]
     },
     "execution_count": 162,
     "metadata": {},
     "output_type": "execute_result"
    }
   ],
   "source": [
    "# training data\n",
    "X=Chat_dataset.drop('sentiment',axis=1)\n",
    "\n",
    "#X=Chat_dataset['message'] \n",
    "\n",
    "# Target is the sentiment so y=sentiment\n",
    "y=Chat_dataset['sentiment']\n",
    "\n",
    "cv=CountVectorizer()\n",
    "#X=cv.fit_transform(X)\n",
    "X=cv.fit_transform(X['message'])\n",
    "\n",
    "X_train, X_test, y_train, y_test=train_test_split(X,y,test_size=0.3,random_state=0)\n",
    "\n",
    "# The models, both the split one and the full one\n",
    "# The splitted model\n",
    "mnb=MultinomialNB()\n",
    "mnb.fit(X_train,y_train)\n",
    "\n",
    "# The full model\n",
    "# Default: alpha=1, fit_prior=True\n",
    "mnb_full=MultinomialNB(alpha=0.5, fit_prior=False,)\n",
    "mnb_full.fit(X,y)"
   ]
  },
  {
   "attachments": {},
   "cell_type": "markdown",
   "metadata": {},
   "source": [
    "<h1> How good is the model?"
   ]
  },
  {
   "cell_type": "code",
   "execution_count": 163,
   "metadata": {},
   "outputs": [
    {
     "name": "stdout",
     "output_type": "stream",
     "text": [
      "Accuracy of the split model: 0.8181818181818182\n",
      "Accuracy of the full model: 0.9715909090909091\n",
      "Mean Squared Error of the split model: 0.648424664440323\n",
      "Mean Squared Error of the full model: 0.25\n",
      "Mean Absolute Error of the split model: 0.26136363636363635\n",
      "Mean Absolute Error of the full model: 0.03977272727272727\n"
     ]
    }
   ],
   "source": [
    "# predicting \n",
    "# split model\n",
    "pred_mnb_split=mnb.predict(X_test)\n",
    "# full model\n",
    "pred_mnb_full=mnb_full.predict(X_test)\n",
    "\n",
    "le=LabelEncoder()\n",
    "y_test_encoded=le.fit_transform(y_test)\n",
    "pred_mnb_split_encoded=le.fit_transform(pred_mnb_split)\n",
    "pred_mnb_full_encoded=le.fit_transform(pred_mnb_full)\n",
    "\n",
    "# mean squared error\n",
    "mse_mnb_split=np.sqrt(mean_squared_error(y_test_encoded,pred_mnb_split_encoded))\n",
    "mse_mnb_full=np.sqrt(mean_squared_error(y_test_encoded,pred_mnb_full_encoded))\n",
    "\n",
    "# mean absolute error\n",
    "mae_mnb_split= mean_absolute_error(y_test_encoded,pred_mnb_split_encoded)\n",
    "mae_mnb_full= mean_absolute_error(y_test_encoded,pred_mnb_full_encoded)\n",
    "\n",
    "# accuracy \n",
    "acc_mnb_split=accuracy_score(y_test,pred_mnb_split)\n",
    "acc_mnb_full=accuracy_score(y_test,pred_mnb_full)\n",
    "\n",
    "# Printing results\n",
    "print(f'Accuracy of the split model: {acc_mnb_split}')\n",
    "print(f'Accuracy of the full model: {acc_mnb_full}')\n",
    "print(f'Mean Squared Error of the split model: {mse_mnb_split}')\n",
    "print(f'Mean Squared Error of the full model: {mse_mnb_full}')\n",
    "print (f'Mean Absolute Error of the split model: {mae_mnb_split}')\n",
    "print (f'Mean Absolute Error of the full model: {mae_mnb_full}')"
   ]
  },
  {
   "attachments": {},
   "cell_type": "markdown",
   "metadata": {},
   "source": [
    "The full model is better, I did test both before typing this <br>\n",
    "So i decided to only use the full one for simplicity<br>\n",
    "Let's see how it does"
   ]
  },
  {
   "cell_type": "code",
   "execution_count": 164,
   "metadata": {},
   "outputs": [],
   "source": [
    "# Predictor function\n",
    "def mnb_predictor(text):\n",
    "    # Need to put the text file through the same preprocessing like the model\n",
    "    text_cleaned = clean_text(text)\n",
    "    text_transformed = cv.transform([text_cleaned])\n",
    "\n",
    "    mnb_pred = mnb.predict(text_transformed)\n",
    "    # Creating a DataFrame for better visualization\n",
    "    result_df = pd.DataFrame({'Text': [text],\n",
    "                              'MNB Prediction': mnb_pred\n",
    "                              })\n",
    "    \n",
    "    return result_df\n",
    "\n",
    "# Function that applies the prediictor function to each row\n",
    "# Each row in our text files is separated by a newline\n",
    "# So if the format is different, modifying this function might be required\n",
    "def process_text_lines(text):\n",
    "    result_df = pd.DataFrame(columns=['Text', 'MNB Prediction'])\n",
    "    with open(text, 'r') as file:\n",
    "        for line in file:\n",
    "            line = line.strip()\n",
    "            if line:\n",
    "                df = mnb_predictor(line)\n",
    "                result_df = pd.concat([result_df, df], ignore_index=True)\n",
    "    return result_df\n"
   ]
  },
  {
   "attachments": {},
   "cell_type": "markdown",
   "metadata": {},
   "source": [
    "How well does the model identify positive sentiment?"
   ]
  },
  {
   "cell_type": "code",
   "execution_count": 165,
   "metadata": {},
   "outputs": [
    {
     "name": "stdout",
     "output_type": "stream",
     "text": [
      "MNB Prediction\n",
      "positive    45\n",
      "neutral      5\n",
      "negative     1\n",
      "Name: count, dtype: int64\n"
     ]
    }
   ],
   "source": [
    "text = '..//text_positive.txt'\n",
    "\n",
    "predictions_df=process_text_lines(text)\n",
    "prediction_counts = predictions_df['MNB Prediction'].value_counts()\n",
    "print(prediction_counts)"
   ]
  },
  {
   "attachments": {},
   "cell_type": "markdown",
   "metadata": {},
   "source": [
    "How about negative sentiment?"
   ]
  },
  {
   "cell_type": "code",
   "execution_count": 166,
   "metadata": {},
   "outputs": [
    {
     "name": "stdout",
     "output_type": "stream",
     "text": [
      "MNB Prediction\n",
      "positive    26\n",
      "negative    19\n",
      "neutral      5\n",
      "Name: count, dtype: int64\n"
     ]
    }
   ],
   "source": [
    "text_n='..//text_negative.txt'\n",
    "predictions_df=process_text_lines(text_n)\n",
    "prediction_counts = predictions_df['MNB Prediction'].value_counts()\n",
    "print(prediction_counts)"
   ]
  },
  {
   "attachments": {},
   "cell_type": "markdown",
   "metadata": {},
   "source": [
    "Neutral sentiment? this one is way trickier, even for humans.."
   ]
  },
  {
   "cell_type": "code",
   "execution_count": 167,
   "metadata": {},
   "outputs": [
    {
     "name": "stdout",
     "output_type": "stream",
     "text": [
      "MNB Prediction\n",
      "positive    14\n",
      "neutral     13\n",
      "negative     3\n",
      "Name: count, dtype: int64\n"
     ]
    }
   ],
   "source": [
    "text_ne='..//text_neutral.txt'\n",
    "predictions_df=process_text_lines(text_ne)\n",
    "prediction_counts = predictions_df['MNB Prediction'].value_counts()\n",
    "print(prediction_counts)"
   ]
  },
  {
   "attachments": {},
   "cell_type": "markdown",
   "metadata": {},
   "source": [
    "It does seem that both the dataset and the model have reached their max and won't cooperate any longer.<br>\n",
    "The positive sentiment seems to be identified the best with 45 out of 51 <br>"
   ]
  }
 ],
 "metadata": {
  "kernelspec": {
   "display_name": "Python 3",
   "language": "python",
   "name": "python3"
  },
  "language_info": {
   "codemirror_mode": {
    "name": "ipython",
    "version": 3
   },
   "file_extension": ".py",
   "mimetype": "text/x-python",
   "name": "python",
   "nbconvert_exporter": "python",
   "pygments_lexer": "ipython3",
   "version": "3.11.3"
  },
  "orig_nbformat": 4
 },
 "nbformat": 4,
 "nbformat_minor": 2
}
