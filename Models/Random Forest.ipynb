{
 "cells": [
  {
   "attachments": {},
   "cell_type": "markdown",
   "metadata": {},
   "source": [
    "<h1>Random Forest Regressor model "
   ]
  },
  {
   "attachments": {},
   "cell_type": "markdown",
   "metadata": {},
   "source": [
    "Trying https://www.kaggle.com/datasets/mohithsairamreddy/salary-data/code?select=Salary_Data.csv <br>\n",
    "A dataset focused on salaries "
   ]
  },
  {
   "cell_type": "code",
   "execution_count": 299,
   "metadata": {},
   "outputs": [],
   "source": [
    "import pandas as pd\n",
    "from sklearn.ensemble import RandomForestRegressor\n",
    "from sklearn.preprocessing import LabelEncoder\n",
    "import numpy as np\n",
    "import seaborn as sns\n",
    "import matplotlib.pyplot as plt"
   ]
  },
  {
   "cell_type": "code",
   "execution_count": 300,
   "metadata": {},
   "outputs": [
    {
     "data": {
      "text/html": [
       "<div>\n",
       "<style scoped>\n",
       "    .dataframe tbody tr th:only-of-type {\n",
       "        vertical-align: middle;\n",
       "    }\n",
       "\n",
       "    .dataframe tbody tr th {\n",
       "        vertical-align: top;\n",
       "    }\n",
       "\n",
       "    .dataframe thead th {\n",
       "        text-align: right;\n",
       "    }\n",
       "</style>\n",
       "<table border=\"1\" class=\"dataframe\">\n",
       "  <thead>\n",
       "    <tr style=\"text-align: right;\">\n",
       "      <th></th>\n",
       "      <th>Age</th>\n",
       "      <th>Gender</th>\n",
       "      <th>Education Level</th>\n",
       "      <th>Job Title</th>\n",
       "      <th>Years of Experience</th>\n",
       "      <th>Salary</th>\n",
       "    </tr>\n",
       "  </thead>\n",
       "  <tbody>\n",
       "    <tr>\n",
       "      <th>0</th>\n",
       "      <td>32.0</td>\n",
       "      <td>Male</td>\n",
       "      <td>Bachelor's</td>\n",
       "      <td>Software Engineer</td>\n",
       "      <td>5.0</td>\n",
       "      <td>90000.0</td>\n",
       "    </tr>\n",
       "    <tr>\n",
       "      <th>1</th>\n",
       "      <td>28.0</td>\n",
       "      <td>Female</td>\n",
       "      <td>Master's</td>\n",
       "      <td>Data Analyst</td>\n",
       "      <td>3.0</td>\n",
       "      <td>65000.0</td>\n",
       "    </tr>\n",
       "    <tr>\n",
       "      <th>2</th>\n",
       "      <td>45.0</td>\n",
       "      <td>Male</td>\n",
       "      <td>PhD</td>\n",
       "      <td>Senior Manager</td>\n",
       "      <td>15.0</td>\n",
       "      <td>150000.0</td>\n",
       "    </tr>\n",
       "    <tr>\n",
       "      <th>3</th>\n",
       "      <td>36.0</td>\n",
       "      <td>Female</td>\n",
       "      <td>Bachelor's</td>\n",
       "      <td>Sales Associate</td>\n",
       "      <td>7.0</td>\n",
       "      <td>60000.0</td>\n",
       "    </tr>\n",
       "    <tr>\n",
       "      <th>4</th>\n",
       "      <td>52.0</td>\n",
       "      <td>Male</td>\n",
       "      <td>Master's</td>\n",
       "      <td>Director</td>\n",
       "      <td>20.0</td>\n",
       "      <td>200000.0</td>\n",
       "    </tr>\n",
       "    <tr>\n",
       "      <th>...</th>\n",
       "      <td>...</td>\n",
       "      <td>...</td>\n",
       "      <td>...</td>\n",
       "      <td>...</td>\n",
       "      <td>...</td>\n",
       "      <td>...</td>\n",
       "    </tr>\n",
       "    <tr>\n",
       "      <th>6694</th>\n",
       "      <td>27.0</td>\n",
       "      <td>Male</td>\n",
       "      <td>High School</td>\n",
       "      <td>Digital Marketing Manager</td>\n",
       "      <td>2.0</td>\n",
       "      <td>40000.0</td>\n",
       "    </tr>\n",
       "    <tr>\n",
       "      <th>6695</th>\n",
       "      <td>33.0</td>\n",
       "      <td>Female</td>\n",
       "      <td>Bachelor's Degree</td>\n",
       "      <td>Content Marketing Manager</td>\n",
       "      <td>7.0</td>\n",
       "      <td>90000.0</td>\n",
       "    </tr>\n",
       "    <tr>\n",
       "      <th>6696</th>\n",
       "      <td>28.0</td>\n",
       "      <td>Male</td>\n",
       "      <td>PhD</td>\n",
       "      <td>Sales Representative</td>\n",
       "      <td>4.0</td>\n",
       "      <td>55000.0</td>\n",
       "    </tr>\n",
       "    <tr>\n",
       "      <th>6697</th>\n",
       "      <td>51.0</td>\n",
       "      <td>Female</td>\n",
       "      <td>Master's Degree</td>\n",
       "      <td>Senior Product Marketing Manager</td>\n",
       "      <td>19.0</td>\n",
       "      <td>190000.0</td>\n",
       "    </tr>\n",
       "    <tr>\n",
       "      <th>6698</th>\n",
       "      <td>37.0</td>\n",
       "      <td>Male</td>\n",
       "      <td>Bachelor's Degree</td>\n",
       "      <td>Junior Sales Representative</td>\n",
       "      <td>6.0</td>\n",
       "      <td>75000.0</td>\n",
       "    </tr>\n",
       "  </tbody>\n",
       "</table>\n",
       "<p>6699 rows × 6 columns</p>\n",
       "</div>"
      ],
      "text/plain": [
       "       Age  Gender    Education Level                         Job Title   \n",
       "0     32.0    Male         Bachelor's                 Software Engineer  \\\n",
       "1     28.0  Female           Master's                      Data Analyst   \n",
       "2     45.0    Male                PhD                    Senior Manager   \n",
       "3     36.0  Female         Bachelor's                   Sales Associate   \n",
       "4     52.0    Male           Master's                          Director   \n",
       "...    ...     ...                ...                               ...   \n",
       "6694  27.0    Male        High School         Digital Marketing Manager   \n",
       "6695  33.0  Female  Bachelor's Degree         Content Marketing Manager   \n",
       "6696  28.0    Male                PhD              Sales Representative   \n",
       "6697  51.0  Female    Master's Degree  Senior Product Marketing Manager   \n",
       "6698  37.0    Male  Bachelor's Degree       Junior Sales Representative   \n",
       "\n",
       "      Years of Experience    Salary  \n",
       "0                     5.0   90000.0  \n",
       "1                     3.0   65000.0  \n",
       "2                    15.0  150000.0  \n",
       "3                     7.0   60000.0  \n",
       "4                    20.0  200000.0  \n",
       "...                   ...       ...  \n",
       "6694                  2.0   40000.0  \n",
       "6695                  7.0   90000.0  \n",
       "6696                  4.0   55000.0  \n",
       "6697                 19.0  190000.0  \n",
       "6698                  6.0   75000.0  \n",
       "\n",
       "[6699 rows x 6 columns]"
      ]
     },
     "execution_count": 300,
     "metadata": {},
     "output_type": "execute_result"
    }
   ],
   "source": [
    "# Salaries dataset\n",
    "df_s=pd.read_csv('../Datasets/Salary_Data.csv')\n",
    "df_s.head(-5)"
   ]
  },
  {
   "attachments": {},
   "cell_type": "markdown",
   "metadata": {},
   "source": [
    "So we have 6 important columns: Age, Gender, Education Level, Job Title, Experience and Salary<br>\n",
    "How many unique values are for each column and do they need preprocessing?"
   ]
  },
  {
   "cell_type": "code",
   "execution_count": 301,
   "metadata": {},
   "outputs": [
    {
     "name": "stdout",
     "output_type": "stream",
     "text": [
      "Age column: [32. 28. 45. 36. 52. 29. 42. 31. 26. 38. 48. 35. 40. 27. 44. 33. 39. 25.\n",
      " 51. 34. 47. 30. 41. 37. 24. 43. 50. 46. 49. 23. 53. nan 61. 57. 62. 55.\n",
      " 56. 54. 60. 58. 22. 21.]\n",
      "Gender column: ['Male' 'Female' nan 'Other']\n",
      "Education Level column: [\"Bachelor's\" \"Master's\" 'PhD' nan \"Bachelor's Degree\" \"Master's Degree\"\n",
      " 'High School' 'phD']\n",
      "Job Title column: ['Software Engineer' 'Data Analyst' 'Senior Manager' 'Sales Associate'\n",
      " 'Director' 'Marketing Analyst' 'Product Manager' 'Sales Manager'\n",
      " 'Marketing Coordinator' 'Senior Scientist' 'Software Developer'\n",
      " 'HR Manager' 'Financial Analyst' 'Project Manager' 'Customer Service Rep'\n",
      " 'Operations Manager' 'Marketing Manager' 'Senior Engineer'\n",
      " 'Data Entry Clerk' 'Sales Director' 'Business Analyst' 'VP of Operations'\n",
      " 'IT Support' 'Recruiter' 'Financial Manager' 'Social Media Specialist'\n",
      " 'Software Manager' 'Junior Developer' 'Senior Consultant'\n",
      " 'Product Designer' 'CEO' 'Accountant' 'Data Scientist'\n",
      " 'Marketing Specialist' 'Technical Writer' 'HR Generalist'\n",
      " 'Project Engineer' 'Customer Success Rep' 'Sales Executive' 'UX Designer'\n",
      " 'Operations Director' 'Network Engineer' 'Administrative Assistant'\n",
      " 'Strategy Consultant' 'Copywriter' 'Account Manager'\n",
      " 'Director of Marketing' 'Help Desk Analyst' 'Customer Service Manager'\n",
      " 'Business Intelligence Analyst' 'Event Coordinator' 'VP of Finance'\n",
      " 'Graphic Designer' 'UX Researcher' 'Social Media Manager'\n",
      " 'Director of Operations' 'Senior Data Scientist' 'Junior Accountant'\n",
      " 'Digital Marketing Manager' 'IT Manager'\n",
      " 'Customer Service Representative' 'Business Development Manager'\n",
      " 'Senior Financial Analyst' 'Web Developer' 'Research Director'\n",
      " 'Technical Support Specialist' 'Creative Director'\n",
      " 'Senior Software Engineer' 'Human Resources Director'\n",
      " 'Content Marketing Manager' 'Technical Recruiter' 'Sales Representative'\n",
      " 'Chief Technology Officer' 'Junior Designer' 'Financial Advisor'\n",
      " 'Junior Account Manager' 'Senior Project Manager' 'Principal Scientist'\n",
      " 'Supply Chain Manager' 'Senior Marketing Manager' 'Training Specialist'\n",
      " 'Research Scientist' 'Junior Software Developer'\n",
      " 'Public Relations Manager' 'Operations Analyst'\n",
      " 'Product Marketing Manager' 'Senior HR Manager' 'Junior Web Developer'\n",
      " 'Senior Project Coordinator' 'Chief Data Officer'\n",
      " 'Digital Content Producer' 'IT Support Specialist'\n",
      " 'Senior Marketing Analyst' 'Customer Success Manager'\n",
      " 'Senior Graphic Designer' 'Software Project Manager'\n",
      " 'Supply Chain Analyst' 'Senior Business Analyst'\n",
      " 'Junior Marketing Analyst' 'Office Manager' 'Principal Engineer'\n",
      " 'Junior HR Generalist' 'Senior Product Manager'\n",
      " 'Junior Operations Analyst' 'Senior HR Generalist'\n",
      " 'Sales Operations Manager' 'Senior Software Developer'\n",
      " 'Junior Web Designer' 'Senior Training Specialist'\n",
      " 'Senior Research Scientist' 'Junior Sales Representative'\n",
      " 'Junior Marketing Manager' 'Junior Data Analyst'\n",
      " 'Senior Product Marketing Manager' 'Junior Business Analyst'\n",
      " 'Senior Sales Manager' 'Junior Marketing Specialist'\n",
      " 'Junior Project Manager' 'Senior Accountant' 'Director of Sales'\n",
      " 'Junior Recruiter' 'Senior Business Development Manager'\n",
      " 'Senior Product Designer' 'Junior Customer Support Specialist'\n",
      " 'Senior IT Support Specialist' 'Junior Financial Analyst'\n",
      " 'Senior Operations Manager' 'Director of Human Resources'\n",
      " 'Junior Software Engineer' 'Senior Sales Representative'\n",
      " 'Director of Product Management' 'Junior Copywriter'\n",
      " 'Senior Marketing Coordinator' 'Senior Human Resources Manager'\n",
      " 'Junior Business Development Associate' 'Senior Account Manager'\n",
      " 'Senior Researcher' 'Junior HR Coordinator' 'Director of Finance'\n",
      " 'Junior Marketing Coordinator' nan 'Junior Data Scientist'\n",
      " 'Senior Operations Analyst' 'Senior Human Resources Coordinator'\n",
      " 'Senior UX Designer' 'Junior Product Manager'\n",
      " 'Senior Marketing Specialist' 'Senior IT Project Manager'\n",
      " 'Senior Quality Assurance Analyst' 'Director of Sales and Marketing'\n",
      " 'Senior Account Executive' 'Director of Business Development'\n",
      " 'Junior Social Media Manager' 'Senior Human Resources Specialist'\n",
      " 'Senior Data Analyst' 'Director of Human Capital'\n",
      " 'Junior Advertising Coordinator' 'Junior UX Designer'\n",
      " 'Senior Marketing Director' 'Senior IT Consultant'\n",
      " 'Senior Financial Advisor' 'Junior Business Operations Analyst'\n",
      " 'Junior Social Media Specialist' 'Senior Product Development Manager'\n",
      " 'Junior Operations Manager' 'Senior Software Architect'\n",
      " 'Junior Research Scientist' 'Senior Financial Manager'\n",
      " 'Senior HR Specialist' 'Senior Data Engineer'\n",
      " 'Junior Operations Coordinator' 'Director of HR'\n",
      " 'Senior Operations Coordinator' 'Junior Financial Advisor'\n",
      " 'Director of Engineering' 'Software Engineer Manager'\n",
      " 'Back end Developer' 'Senior Project Engineer' 'Full Stack Engineer'\n",
      " 'Front end Developer' 'Developer' 'Front End Developer'\n",
      " 'Director of Data Science' 'Human Resources Coordinator'\n",
      " 'Junior Sales Associate' 'Human Resources Manager'\n",
      " 'Juniour HR Generalist' 'Juniour HR Coordinator'\n",
      " 'Digital Marketing Specialist' 'Receptionist' 'Marketing Director'\n",
      " 'Social M' 'Social Media Man' 'Delivery Driver']\n",
      "Years of Experience column: [ 5.   3.  15.   7.  20.   2.  12.   4.   1.  10.  18.   6.  14.  16.\n",
      "  0.  22.  19.   9.  13.  11.  25.  21.   8.  17.  23.  24.   0.5  1.5\n",
      "  nan 31.  30.  28.  33.  27.  34.  29.  26.  32. ]\n",
      "Salary column: [ 90000.  65000. 150000.  60000. 200000.  55000. 120000.  80000.  45000.\n",
      " 110000.  75000. 140000. 130000.  40000. 125000. 115000.  35000. 180000.\n",
      " 190000.  50000. 250000. 170000. 160000.  85000.  95000. 105000.  70000.\n",
      " 100000.  30000. 135000. 220000. 175000. 185000.     nan 145000. 155000.\n",
      "    350. 195000. 198000. 196000. 193000.  92000. 165000. 162000. 197000.\n",
      " 142000. 182000. 210000.    550. 122485. 169159. 187081. 166109.  78354.\n",
      "  90249. 132720. 161568. 127346. 120177.  69032. 101332. 121450. 166375.\n",
      " 185119. 149217. 166512. 186963.  75072. 163398. 103947. 179180. 175966.\n",
      " 190004. 152039.  76742. 191790. 139398.  95845. 160976. 126753. 161393.\n",
      " 139817. 181714. 114776. 105725.  52731. 106492.  73895. 119836.  99747.\n",
      " 168287. 115920. 128078.  51265. 165919. 188651.  55538. 193964. 104702.\n",
      " 172955. 138032.  82683. 155414. 154207. 107895. 148446. 102859. 138662.\n",
      " 181699. 188232.  51832. 188484. 138286. 181132.  73938. 119224. 101186.\n",
      " 142360. 151315. 181021. 134641. 173851. 104127. 178859.  98568. 104661.\n",
      " 134858.  94502.  62852. 139095. 106278.  90452. 168304. 126593. 152203.\n",
      " 183138. 130275. 191915.  62807. 174305. 133326.  75656. 155944. 137775.\n",
      "  51831. 182237. 151901. 100052. 158254. 167207. 112439. 194214.  84407.\n",
      " 139413. 143084. 192344. 106132. 184816. 150248. 170995.  88035. 119419.\n",
      " 173582. 174436.  71699. 163558. 166828. 144496. 193746. 122581.  79767.\n",
      " 177177.  89843. 113563. 128712. 161621. 121454. 179987.  72649.  52612.\n",
      " 184006. 131960. 102465. 149748. 171036. 146351. 185462. 107718.  90944.\n",
      " 100425.  63901. 181902. 136533. 136285. 191818. 176643.  70022.  99363.\n",
      " 152944. 123386. 168906. 183020.  47898. 135853. 149198. 106662. 186610.\n",
      "  89995.  85825. 143814. 174726. 150534.  68732. 187951. 137336. 191159.\n",
      " 102868. 154281. 111535. 107906. 143885. 180958. 108607. 178284.  75969.\n",
      " 143705. 197354. 174324. 123781. 141735. 187120.  61095. 179045. 130355.\n",
      " 103282. 157872. 117314. 186321. 129686.  68611. 177913.  68472. 113065.\n",
      " 125091. 172925. 126916. 183417.  76898.    579. 103579. 163780. 137878.\n",
      "  92438.  84181. 174821. 126520. 152168. 190543. 131547. 192292.  52807.\n",
      " 174938. 124071.  73640. 156486. 138859.  52831. 182392. 151078. 100679.\n",
      " 158966. 167924. 113334. 194778.  77606. 140010. 142421. 192756. 106686.\n",
      " 186794. 150729. 171652.  88552. 119918. 174985. 174336.  72389. 163978.\n",
      " 166958. 145052. 195270. 122970.  80247. 177862.  91062. 114290. 128999.\n",
      " 162454. 122354. 179756.  73218. 184480. 132442. 102828. 150301. 171468.\n",
      " 147326. 185982. 108267.  91397. 100867.  64182. 182506. 136986. 136662.\n",
      " 191510. 177347.  70397. 146075. 155795. 132638. 178684. 106218. 191239.\n",
      "  65840.  52779. 185038. 136449. 110707. 151670. 167015. 146508. 190596.\n",
      " 104378.  70216. 101733.  55935. 180367. 135596. 136062. 191267.  82944.\n",
      " 188288. 141090. 152726. 124141.  67556. 182768. 148727.  91903. 147708.\n",
      " 163209. 120288. 170226. 134979. 137489.  83577. 117904. 134482. 184660.\n",
      " 100151.  88678. 181285. 154990. 108204. 175684.  77766. 192211. 144647.\n",
      " 162231. 121120.  79652. 177002.  87584. 131860. 182013. 108799. 135378.\n",
      " 183530. 150901.  82697. 194638. 130356. 152560. 121432.  63789. 183690.\n",
      " 151310. 100358. 148437. 168691.  32000.  38000.  89000.  33000.  25000.\n",
      "  62000. 138000.  47000.  26000. 174000.  41000.  99000. 117000. 225000.\n",
      "  36000. 146000. 113000. 168000. 122000.  96000.  49000.  68000. 127000.\n",
      "  71000. 240000. 152000. 119000. 131000. 101000. 137000. 112000.  91000.\n",
      " 179000.  74000. 228000.  37000. 204000.  61000. 157000.  52000.  58000.\n",
      " 219000.  77000. 104000. 183000.  43000.  48000.  42000.    500.  57000.\n",
      "  72000.  31000.  28000. 215000.]\n"
     ]
    }
   ],
   "source": [
    "print('Age column:',df_s['Age'].unique())\n",
    "# Age has nan values also\n",
    "print('Gender column:',df_s.Gender.unique())\n",
    "# Gender contains nan values\n",
    "print('Education Level column:',df_s['Education Level'].unique())\n",
    "# So we have Bachelor's, Master's and phD twice and also nan values\n",
    "print('Job Title column:',df_s['Job Title'].unique())\n",
    "# There are many jobs such as:  'Juniour HR Generalist' ...Juniour? French job?\n",
    "print('Years of Experience column:',df_s['Years of Experience'].unique())\n",
    "# Contains nan values as well as 0, 0 years of experience makes sense\n",
    "# But nan values do not really mean no experience so can't transform nan into 0s\n",
    "print('Salary column:',df_s['Salary'].unique())\n",
    "# The last column seems to not contain nan values but should still preprocess it to be sure.\n"
   ]
  },
  {
   "cell_type": "code",
   "execution_count": 302,
   "metadata": {},
   "outputs": [
    {
     "data": {
      "text/plain": [
       "6704"
      ]
     },
     "execution_count": 302,
     "metadata": {},
     "output_type": "execute_result"
    }
   ],
   "source": [
    "len(df_s)"
   ]
  },
  {
   "attachments": {},
   "cell_type": "markdown",
   "metadata": {},
   "source": [
    "Preprocessing "
   ]
  },
  {
   "cell_type": "code",
   "execution_count": 303,
   "metadata": {},
   "outputs": [
    {
     "name": "stdout",
     "output_type": "stream",
     "text": [
      "Age nulls:  4\n",
      "Gender nulls:  4\n",
      "Education nulls:  6\n",
      "Job nulls:  4\n",
      "Exp nulls:  6\n",
      "Salary nulls:  10\n"
     ]
    }
   ],
   "source": [
    "# Function to detect how many nan values a column has\n",
    "def nan_values(column):\n",
    "    column=column.isnull().sum()+column.isna().sum() # .isnull() does not detect nan values\n",
    "    return column\n",
    "\n",
    "print('Age nulls: ',nan_values(df_s.Age))\n",
    "print('Gender nulls: ',nan_values(df_s.Gender))\n",
    "print('Education nulls: ',nan_values(df_s['Education Level']))\n",
    "print('Job nulls: ',nan_values(df_s['Job Title']))\n",
    "print('Exp nulls: ',nan_values(df_s['Years of Experience']))\n",
    "print('Salary nulls: ',nan_values(df_s['Salary']))\n",
    "\n",
    "# The best course of action is to just drop those rows since they are only a handful anyway"
   ]
  },
  {
   "cell_type": "code",
   "execution_count": 304,
   "metadata": {},
   "outputs": [
    {
     "name": "stdout",
     "output_type": "stream",
     "text": [
      "Salary nulls:  0\n"
     ]
    }
   ],
   "source": [
    "# Function to drop rows with nan values\n",
    "# or could have simply called df_s=df_s.dropna()\n",
    "def drop_rows_with_nan(df,columns):\n",
    "    for columns in columns:\n",
    "        df = df.dropna(subset=[columns])\n",
    "    return df\n",
    "\n",
    "df_s=drop_rows_with_nan(df_s, ['Age','Gender','Education Level', 'Job Title', 'Years of Experience', 'Salary'])\n",
    "# testing if func worked\n",
    "print('Salary nulls: ',nan_values(df_s['Salary']))"
   ]
  },
  {
   "cell_type": "code",
   "execution_count": 305,
   "metadata": {},
   "outputs": [
    {
     "name": "stdout",
     "output_type": "stream",
     "text": [
      "[\"Bachelor's\" \"Master's\" 'PhD' 'High School']\n"
     ]
    }
   ],
   "source": [
    "# Addressing the repeating Education Levels\n",
    "df_s['Education Level'] = df_s['Education Level'].replace({\"Bachelor's Degree\": \"Bachelor's\"})\n",
    "df_s['Education Level'] = df_s['Education Level'].replace({\"Master's Degree\": \"Master's\"})\n",
    "df_s['Education Level'] = df_s['Education Level'].replace({\"phD\": \"PhD\"})\n",
    "print(df_s['Education Level'].unique())"
   ]
  },
  {
   "attachments": {},
   "cell_type": "markdown",
   "metadata": {},
   "source": [
    "Does education correlate to a higher income?<br>\n",
    "Finding first the correlation between columns:"
   ]
  },
  {
   "cell_type": "code",
   "execution_count": 306,
   "metadata": {},
   "outputs": [
    {
     "data": {
      "image/png": "[encoded data removed]",
      "text/plain": [
       "<Figure size 640x480 with 2 Axes>"
      ]
     },
     "metadata": {},
     "output_type": "display_data"
    }
   ],
   "source": [
    "# Encoding \n",
    "le_gender = LabelEncoder()\n",
    "le_education = LabelEncoder()\n",
    "le_job = LabelEncoder()\n",
    "df_s['Gender'] = le_gender.fit_transform(df_s['Gender'])\n",
    "df_s['Education Level'] = le_education.fit_transform(df_s['Education Level'])\n",
    "df_s['Job Title'] = le_job.fit_transform(df_s['Job Title'])\n",
    "\n",
    "correlation = df_s.corr()\n",
    "sns.heatmap(correlation, annot=True, cmap='coolwarm')\n",
    "plt.title('Correlation Matrix')\n",
    "plt.show()\n",
    "# The most correlated values:\n",
    "# Age with Years of Experience and Salary\n",
    "# Years of Experience with Salary\n",
    "\n",
    "# The most uncorrelated columns:\n",
    "# Gender\n",
    "# Job title\n",
    "\n",
    "# Education level holds a middle ground here"
   ]
  },
  {
   "cell_type": "code",
   "execution_count": 307,
   "metadata": {},
   "outputs": [
    {
     "name": "stdout",
     "output_type": "stream",
     "text": [
      "Mean Bachelor`s salary: 95082.90863952333\n",
      "Mean Master`s salary: 130112.05645161291\n",
      "Mean PHD salary: 165651.4579985391\n",
      "Mean High Schooler salary: 36706.69419642857\n",
      "Difference between a PHD and an High Schooler:  128944.76380211051\n"
     ]
    }
   ],
   "source": [
    "# inverse transforming the Education Level Column first\n",
    "df_s['Education Level']=le_education.inverse_transform(df_s['Education Level'])\n",
    "#edu_inc=df_s[['Education Level','Salary']]\n",
    "bachelor=df_s[df_s['Education Level']==\"Bachelor's\"][['Education Level', 'Salary']]\n",
    "phd=df_s[df_s['Education Level']==\"PhD\"][['Education Level', 'Salary']]\n",
    "master=df_s[df_s['Education Level']==\"Master's\"][['Education Level', 'Salary']]\n",
    "highschool=df_s[df_s['Education Level']==\"High School\"][['Education Level', 'Salary']]\n",
    "print('Mean Bachelor`s salary:',bachelor.Salary.mean())\n",
    "print('Mean Master`s salary:',master.Salary.mean())\n",
    "print('Mean PHD salary:',phd.Salary.mean())\n",
    "print('Mean High Schooler salary:',highschool.Salary.mean())\n",
    "\n",
    "print('Difference between a PHD and an High Schooler: ',phd.Salary.mean()-highschool.Salary.mean())"
   ]
  },
  {
   "attachments": {},
   "cell_type": "markdown",
   "metadata": {},
   "source": [
    "Answer: Yes"
   ]
  }
 ],
 "metadata": {
  "kernelspec": {
   "display_name": "Python 3",
   "language": "python",
   "name": "python3"
  },
  "language_info": {
   "codemirror_mode": {
    "name": "ipython",
    "version": 3
   },
   "file_extension": ".py",
   "mimetype": "text/x-python",
   "name": "python",
   "nbconvert_exporter": "python",
   "pygments_lexer": "ipython3",
   "version": "3.11.3"
  },
  "orig_nbformat": 4
 },
 "nbformat": 4,
 "nbformat_minor": 2
}
